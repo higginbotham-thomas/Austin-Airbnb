{
 "cells": [
  {
   "cell_type": "code",
   "execution_count": 182,
   "metadata": {},
   "outputs": [],
   "source": [
    "import pandas as pd\n",
    "import seaborn as sns\n",
    "import matplotlib.pyplot as plt"
   ]
  },
  {
   "cell_type": "code",
   "execution_count": 183,
   "metadata": {},
   "outputs": [
    {
     "data": {
      "text/plain": [
       "0       2021-09-14\n",
       "1       2021-09-14\n",
       "2       2021-09-14\n",
       "3       2021-09-14\n",
       "4       2021-09-14\n",
       "           ...    \n",
       "10804   2021-09-14\n",
       "10805   2021-09-14\n",
       "10806   2021-09-14\n",
       "10807   2021-09-14\n",
       "10808   2021-09-14\n",
       "Name: date, Length: 10809, dtype: datetime64[ns]"
      ]
     },
     "execution_count": 183,
     "metadata": {},
     "output_type": "execute_result"
    }
   ],
   "source": [
    "df = pd.read_csv(\".\\\\Data\\\\20210914\\\\listings.csv\")\n",
    "df['date'] = pd.to_datetime('2021-09-14')\n",
    "pd.to_datetime(df['date'], format='%Y-%m-%d').dt.floor('D')"
   ]
  },
  {
   "cell_type": "code",
   "execution_count": 184,
   "metadata": {},
   "outputs": [],
   "source": [
    "df1 = pd.read_csv(\".\\\\Data\\\\20211211\\\\listings.csv\")\n",
    "df1['date'] = pd.to_datetime('2021-12-11')\n",
    "pd.to_datetime(df['date'], format='%Y-%m-%d').dt.floor('D')\n",
    "\n",
    "df = pd.concat([df,df1], axis=0)"
   ]
  },
  {
   "cell_type": "code",
   "execution_count": 185,
   "metadata": {},
   "outputs": [],
   "source": [
    "df1 = pd.read_csv(\".\\\\Data\\\\20220312\\\\listings.csv\")\n",
    "df1['date'] = pd.to_datetime('2022-03-12')\n",
    "pd.to_datetime(df['date'], format='%Y-%m-%d').dt.floor('D')\n",
    "\n",
    "df = pd.concat([df,df1], axis=0)"
   ]
  },
  {
   "cell_type": "code",
   "execution_count": 186,
   "metadata": {},
   "outputs": [],
   "source": [
    "df1 = pd.read_csv(\".\\\\Data\\\\20220608\\\\listings.csv\")\n",
    "df1['date'] = pd.to_datetime('2022-06-08')\n",
    "pd.to_datetime(df['date'], format='%Y-%m-%d').dt.floor('D')\n",
    "\n",
    "df = pd.concat([df,df1], axis=0)"
   ]
  },
  {
   "cell_type": "code",
   "execution_count": 187,
   "metadata": {},
   "outputs": [],
   "source": [
    "df1 = pd.read_csv(\".\\\\Data\\\\20220912\\\\listings.csv\")\n",
    "df1['date'] = pd.to_datetime('2022-09-12')\n",
    "pd.to_datetime(df['date'], format='%Y-%m-%d').dt.floor('D')\n",
    "\n",
    "df = pd.concat([df,df1], axis=0)"
   ]
  },
  {
   "cell_type": "code",
   "execution_count": 188,
   "metadata": {},
   "outputs": [
    {
     "name": "stdout",
     "output_type": "stream",
     "text": [
      "<class 'pandas.core.frame.DataFrame'>\n",
      "Int64Index: 69563 entries, 0 to 18336\n",
      "Data columns (total 19 columns):\n",
      " #   Column                          Non-Null Count  Dtype         \n",
      "---  ------                          --------------  -----         \n",
      " 0   id                              69563 non-null  int64         \n",
      " 1   name                            69563 non-null  object        \n",
      " 2   host_id                         69563 non-null  int64         \n",
      " 3   host_name                       69276 non-null  object        \n",
      " 4   neighbourhood_group             0 non-null      float64       \n",
      " 5   neighbourhood                   69563 non-null  int64         \n",
      " 6   latitude                        69563 non-null  float64       \n",
      " 7   longitude                       69563 non-null  float64       \n",
      " 8   room_type                       69563 non-null  object        \n",
      " 9   price                           69563 non-null  int64         \n",
      " 10  minimum_nights                  69563 non-null  int64         \n",
      " 11  number_of_reviews               69563 non-null  int64         \n",
      " 12  last_review                     54735 non-null  object        \n",
      " 13  reviews_per_month               54735 non-null  float64       \n",
      " 14  calculated_host_listings_count  69563 non-null  int64         \n",
      " 15  availability_365                69563 non-null  int64         \n",
      " 16  number_of_reviews_ltm           69563 non-null  int64         \n",
      " 17  license                         0 non-null      float64       \n",
      " 18  date                            69563 non-null  datetime64[ns]\n",
      "dtypes: datetime64[ns](1), float64(5), int64(9), object(4)\n",
      "memory usage: 10.6+ MB\n"
     ]
    }
   ],
   "source": [
    "df.info()"
   ]
  },
  {
   "cell_type": "code",
   "execution_count": 189,
   "metadata": {},
   "outputs": [
    {
     "data": {
      "text/html": [
       "<div>\n",
       "<style scoped>\n",
       "    .dataframe tbody tr th:only-of-type {\n",
       "        vertical-align: middle;\n",
       "    }\n",
       "\n",
       "    .dataframe tbody tr th {\n",
       "        vertical-align: top;\n",
       "    }\n",
       "\n",
       "    .dataframe thead th {\n",
       "        text-align: right;\n",
       "    }\n",
       "</style>\n",
       "<table border=\"1\" class=\"dataframe\">\n",
       "  <thead>\n",
       "    <tr style=\"text-align: right;\">\n",
       "      <th></th>\n",
       "      <th>id</th>\n",
       "      <th>host_id</th>\n",
       "      <th>neighbourhood_group</th>\n",
       "      <th>neighbourhood</th>\n",
       "      <th>latitude</th>\n",
       "      <th>longitude</th>\n",
       "      <th>price</th>\n",
       "      <th>minimum_nights</th>\n",
       "      <th>number_of_reviews</th>\n",
       "      <th>reviews_per_month</th>\n",
       "      <th>calculated_host_listings_count</th>\n",
       "      <th>availability_365</th>\n",
       "      <th>number_of_reviews_ltm</th>\n",
       "      <th>license</th>\n",
       "    </tr>\n",
       "  </thead>\n",
       "  <tbody>\n",
       "    <tr>\n",
       "      <th>count</th>\n",
       "      <td>6.956300e+04</td>\n",
       "      <td>6.956300e+04</td>\n",
       "      <td>0.0</td>\n",
       "      <td>69563.000000</td>\n",
       "      <td>69563.000000</td>\n",
       "      <td>69563.000000</td>\n",
       "      <td>69563.000000</td>\n",
       "      <td>69563.000000</td>\n",
       "      <td>69563.000000</td>\n",
       "      <td>54735.000000</td>\n",
       "      <td>69563.000000</td>\n",
       "      <td>69563.000000</td>\n",
       "      <td>69563.000000</td>\n",
       "      <td>0.0</td>\n",
       "    </tr>\n",
       "    <tr>\n",
       "      <th>mean</th>\n",
       "      <td>7.886066e+16</td>\n",
       "      <td>1.226011e+08</td>\n",
       "      <td>NaN</td>\n",
       "      <td>78710.689993</td>\n",
       "      <td>30.288560</td>\n",
       "      <td>-97.779744</td>\n",
       "      <td>317.033610</td>\n",
       "      <td>7.732703</td>\n",
       "      <td>34.517301</td>\n",
       "      <td>1.789975</td>\n",
       "      <td>19.822046</td>\n",
       "      <td>151.305637</td>\n",
       "      <td>10.444274</td>\n",
       "      <td>NaN</td>\n",
       "    </tr>\n",
       "    <tr>\n",
       "      <th>std</th>\n",
       "      <td>2.054693e+17</td>\n",
       "      <td>1.331648e+08</td>\n",
       "      <td>NaN</td>\n",
       "      <td>71.428246</td>\n",
       "      <td>0.117223</td>\n",
       "      <td>0.142136</td>\n",
       "      <td>739.488002</td>\n",
       "      <td>25.246523</td>\n",
       "      <td>71.541124</td>\n",
       "      <td>3.960776</td>\n",
       "      <td>57.618299</td>\n",
       "      <td>138.960303</td>\n",
       "      <td>18.525248</td>\n",
       "      <td>NaN</td>\n",
       "    </tr>\n",
       "    <tr>\n",
       "      <th>min</th>\n",
       "      <td>1.078000e+03</td>\n",
       "      <td>2.300000e+01</td>\n",
       "      <td>NaN</td>\n",
       "      <td>76530.000000</td>\n",
       "      <td>29.674790</td>\n",
       "      <td>-98.606320</td>\n",
       "      <td>0.000000</td>\n",
       "      <td>1.000000</td>\n",
       "      <td>0.000000</td>\n",
       "      <td>0.010000</td>\n",
       "      <td>1.000000</td>\n",
       "      <td>0.000000</td>\n",
       "      <td>0.000000</td>\n",
       "      <td>NaN</td>\n",
       "    </tr>\n",
       "    <tr>\n",
       "      <th>25%</th>\n",
       "      <td>2.039622e+07</td>\n",
       "      <td>1.569776e+07</td>\n",
       "      <td>NaN</td>\n",
       "      <td>78702.000000</td>\n",
       "      <td>30.241460</td>\n",
       "      <td>-97.781480</td>\n",
       "      <td>100.000000</td>\n",
       "      <td>1.000000</td>\n",
       "      <td>1.000000</td>\n",
       "      <td>0.290000</td>\n",
       "      <td>1.000000</td>\n",
       "      <td>0.000000</td>\n",
       "      <td>0.000000</td>\n",
       "      <td>NaN</td>\n",
       "    </tr>\n",
       "    <tr>\n",
       "      <th>50%</th>\n",
       "      <td>3.988795e+07</td>\n",
       "      <td>6.446383e+07</td>\n",
       "      <td>NaN</td>\n",
       "      <td>78705.000000</td>\n",
       "      <td>30.271010</td>\n",
       "      <td>-97.746230</td>\n",
       "      <td>170.000000</td>\n",
       "      <td>2.000000</td>\n",
       "      <td>7.000000</td>\n",
       "      <td>1.000000</td>\n",
       "      <td>2.000000</td>\n",
       "      <td>119.000000</td>\n",
       "      <td>2.000000</td>\n",
       "      <td>NaN</td>\n",
       "    </tr>\n",
       "    <tr>\n",
       "      <th>75%</th>\n",
       "      <td>5.144965e+07</td>\n",
       "      <td>1.954970e+08</td>\n",
       "      <td>NaN</td>\n",
       "      <td>78741.000000</td>\n",
       "      <td>30.323350</td>\n",
       "      <td>-97.718560</td>\n",
       "      <td>300.000000</td>\n",
       "      <td>3.000000</td>\n",
       "      <td>33.000000</td>\n",
       "      <td>2.360000</td>\n",
       "      <td>6.000000</td>\n",
       "      <td>305.000000</td>\n",
       "      <td>14.000000</td>\n",
       "      <td>NaN</td>\n",
       "    </tr>\n",
       "    <tr>\n",
       "      <th>max</th>\n",
       "      <td>7.140332e+17</td>\n",
       "      <td>4.790769e+08</td>\n",
       "      <td>NaN</td>\n",
       "      <td>78759.000000</td>\n",
       "      <td>31.042608</td>\n",
       "      <td>-97.177990</td>\n",
       "      <td>23000.000000</td>\n",
       "      <td>1100.000000</td>\n",
       "      <td>1062.000000</td>\n",
       "      <td>339.000000</td>\n",
       "      <td>398.000000</td>\n",
       "      <td>365.000000</td>\n",
       "      <td>460.000000</td>\n",
       "      <td>NaN</td>\n",
       "    </tr>\n",
       "  </tbody>\n",
       "</table>\n",
       "</div>"
      ],
      "text/plain": [
       "                 id       host_id  neighbourhood_group  neighbourhood  \\\n",
       "count  6.956300e+04  6.956300e+04                  0.0   69563.000000   \n",
       "mean   7.886066e+16  1.226011e+08                  NaN   78710.689993   \n",
       "std    2.054693e+17  1.331648e+08                  NaN      71.428246   \n",
       "min    1.078000e+03  2.300000e+01                  NaN   76530.000000   \n",
       "25%    2.039622e+07  1.569776e+07                  NaN   78702.000000   \n",
       "50%    3.988795e+07  6.446383e+07                  NaN   78705.000000   \n",
       "75%    5.144965e+07  1.954970e+08                  NaN   78741.000000   \n",
       "max    7.140332e+17  4.790769e+08                  NaN   78759.000000   \n",
       "\n",
       "           latitude     longitude         price  minimum_nights  \\\n",
       "count  69563.000000  69563.000000  69563.000000    69563.000000   \n",
       "mean      30.288560    -97.779744    317.033610        7.732703   \n",
       "std        0.117223      0.142136    739.488002       25.246523   \n",
       "min       29.674790    -98.606320      0.000000        1.000000   \n",
       "25%       30.241460    -97.781480    100.000000        1.000000   \n",
       "50%       30.271010    -97.746230    170.000000        2.000000   \n",
       "75%       30.323350    -97.718560    300.000000        3.000000   \n",
       "max       31.042608    -97.177990  23000.000000     1100.000000   \n",
       "\n",
       "       number_of_reviews  reviews_per_month  calculated_host_listings_count  \\\n",
       "count       69563.000000       54735.000000                    69563.000000   \n",
       "mean           34.517301           1.789975                       19.822046   \n",
       "std            71.541124           3.960776                       57.618299   \n",
       "min             0.000000           0.010000                        1.000000   \n",
       "25%             1.000000           0.290000                        1.000000   \n",
       "50%             7.000000           1.000000                        2.000000   \n",
       "75%            33.000000           2.360000                        6.000000   \n",
       "max          1062.000000         339.000000                      398.000000   \n",
       "\n",
       "       availability_365  number_of_reviews_ltm  license  \n",
       "count      69563.000000           69563.000000      0.0  \n",
       "mean         151.305637              10.444274      NaN  \n",
       "std          138.960303              18.525248      NaN  \n",
       "min            0.000000               0.000000      NaN  \n",
       "25%            0.000000               0.000000      NaN  \n",
       "50%          119.000000               2.000000      NaN  \n",
       "75%          305.000000              14.000000      NaN  \n",
       "max          365.000000             460.000000      NaN  "
      ]
     },
     "execution_count": 189,
     "metadata": {},
     "output_type": "execute_result"
    }
   ],
   "source": [
    "df.describe()"
   ]
  },
  {
   "cell_type": "code",
   "execution_count": 190,
   "metadata": {},
   "outputs": [
    {
     "data": {
      "text/plain": [
       "id                                24041\n",
       "name                              26364\n",
       "host_id                           12566\n",
       "host_name                          4563\n",
       "neighbourhood_group                   0\n",
       "neighbourhood                        80\n",
       "latitude                          19171\n",
       "longitude                         18496\n",
       "room_type                             4\n",
       "price                              1769\n",
       "minimum_nights                       79\n",
       "number_of_reviews                   658\n",
       "last_review                        1735\n",
       "reviews_per_month                  1347\n",
       "calculated_host_listings_count       87\n",
       "availability_365                    366\n",
       "number_of_reviews_ltm               188\n",
       "license                               0\n",
       "date                                  5\n",
       "dtype: int64"
      ]
     },
     "execution_count": 190,
     "metadata": {},
     "output_type": "execute_result"
    }
   ],
   "source": [
    "df.nunique()"
   ]
  },
  {
   "cell_type": "code",
   "execution_count": 191,
   "metadata": {},
   "outputs": [],
   "source": [
    "df['date'] = df['date'].astype(str)"
   ]
  },
  {
   "cell_type": "code",
   "execution_count": 192,
   "metadata": {},
   "outputs": [],
   "source": [
    "df = df[df['neighbourhood'] >= 78701] "
   ]
  },
  {
   "cell_type": "code",
   "execution_count": 193,
   "metadata": {},
   "outputs": [
    {
     "data": {
      "text/plain": [
       "array(['Entire home/apt', 'Private room', 'Hotel room', 'Shared room'],\n",
       "      dtype=object)"
      ]
     },
     "execution_count": 193,
     "metadata": {},
     "output_type": "execute_result"
    }
   ],
   "source": [
    "df.room_type.unique()"
   ]
  },
  {
   "cell_type": "code",
   "execution_count": 194,
   "metadata": {},
   "outputs": [
    {
     "data": {
      "image/png": "[encoded data removed]",
      "text/plain": [
       "<Figure size 1130.75x500 with 1 Axes>"
      ]
     },
     "metadata": {},
     "output_type": "display_data"
    }
   ],
   "source": [
    "sns.catplot(x='room_type', kind='count', data=df, hue='date', aspect=2)\n",
    "plt.show()"
   ]
  },
  {
   "cell_type": "markdown",
   "metadata": {},
   "source": [
    "We can see that the most popular type of rental is 'Entire home/apt', and that the total number of units offered has grown at a steady pace over the past 5 quarters."
   ]
  },
  {
   "cell_type": "code",
   "execution_count": 195,
   "metadata": {},
   "outputs": [
    {
     "data": {
      "image/png": "[encoded data removed]",
      "text/plain": [
       "<Figure size 3130.75x1500 with 1 Axes>"
      ]
     },
     "metadata": {},
     "output_type": "display_data"
    }
   ],
   "source": [
    "g = sns.catplot(x='neighbourhood', data=df, kind='count', hue='date', aspect = 2, height = 15)\n",
    "g.set_xticklabels(rotation=90)\n",
    "\n",
    "plt.show()"
   ]
  },
  {
   "cell_type": "markdown",
   "metadata": {},
   "source": [
    "We can see that the most popular neighborhoods are 78704, 78702, 78701, 78741, and 78745. Each of these neighborhoods has had strong growth in rentals offered for the last 5 quarters."
   ]
  },
  {
   "cell_type": "code",
   "execution_count": 219,
   "metadata": {},
   "outputs": [
    {
     "data": {
      "text/html": [
       "<div>\n",
       "<style scoped>\n",
       "    .dataframe tbody tr th:only-of-type {\n",
       "        vertical-align: middle;\n",
       "    }\n",
       "\n",
       "    .dataframe tbody tr th {\n",
       "        vertical-align: top;\n",
       "    }\n",
       "\n",
       "    .dataframe thead th {\n",
       "        text-align: right;\n",
       "    }\n",
       "</style>\n",
       "<table border=\"1\" class=\"dataframe\">\n",
       "  <thead>\n",
       "    <tr style=\"text-align: right;\">\n",
       "      <th>date</th>\n",
       "      <th>2021-09-14</th>\n",
       "      <th>2021-12-11</th>\n",
       "      <th>2022-03-12</th>\n",
       "      <th>2022-06-08</th>\n",
       "      <th>2022-09-12</th>\n",
       "    </tr>\n",
       "    <tr>\n",
       "      <th>host_id</th>\n",
       "      <th></th>\n",
       "      <th></th>\n",
       "      <th></th>\n",
       "      <th></th>\n",
       "      <th></th>\n",
       "    </tr>\n",
       "  </thead>\n",
       "  <tbody>\n",
       "    <tr>\n",
       "      <th>104309976</th>\n",
       "      <td>133.0</td>\n",
       "      <td>132.0</td>\n",
       "      <td>194.0</td>\n",
       "      <td>200.0</td>\n",
       "      <td>185.0</td>\n",
       "    </tr>\n",
       "    <tr>\n",
       "      <th>26497220</th>\n",
       "      <td>NaN</td>\n",
       "      <td>4.0</td>\n",
       "      <td>99.0</td>\n",
       "      <td>184.0</td>\n",
       "      <td>156.0</td>\n",
       "    </tr>\n",
       "    <tr>\n",
       "      <th>263502162</th>\n",
       "      <td>43.0</td>\n",
       "      <td>44.0</td>\n",
       "      <td>50.0</td>\n",
       "      <td>74.0</td>\n",
       "      <td>115.0</td>\n",
       "    </tr>\n",
       "    <tr>\n",
       "      <th>107434423</th>\n",
       "      <td>9.0</td>\n",
       "      <td>29.0</td>\n",
       "      <td>36.0</td>\n",
       "      <td>67.0</td>\n",
       "      <td>95.0</td>\n",
       "    </tr>\n",
       "    <tr>\n",
       "      <th>8167447</th>\n",
       "      <td>76.0</td>\n",
       "      <td>77.0</td>\n",
       "      <td>78.0</td>\n",
       "      <td>77.0</td>\n",
       "      <td>78.0</td>\n",
       "    </tr>\n",
       "    <tr>\n",
       "      <th>...</th>\n",
       "      <td>...</td>\n",
       "      <td>...</td>\n",
       "      <td>...</td>\n",
       "      <td>...</td>\n",
       "      <td>...</td>\n",
       "    </tr>\n",
       "    <tr>\n",
       "      <th>461242638</th>\n",
       "      <td>NaN</td>\n",
       "      <td>NaN</td>\n",
       "      <td>NaN</td>\n",
       "      <td>1.0</td>\n",
       "      <td>NaN</td>\n",
       "    </tr>\n",
       "    <tr>\n",
       "      <th>461926895</th>\n",
       "      <td>NaN</td>\n",
       "      <td>NaN</td>\n",
       "      <td>NaN</td>\n",
       "      <td>1.0</td>\n",
       "      <td>NaN</td>\n",
       "    </tr>\n",
       "    <tr>\n",
       "      <th>462308316</th>\n",
       "      <td>NaN</td>\n",
       "      <td>NaN</td>\n",
       "      <td>NaN</td>\n",
       "      <td>1.0</td>\n",
       "      <td>NaN</td>\n",
       "    </tr>\n",
       "    <tr>\n",
       "      <th>462317350</th>\n",
       "      <td>NaN</td>\n",
       "      <td>NaN</td>\n",
       "      <td>NaN</td>\n",
       "      <td>1.0</td>\n",
       "      <td>NaN</td>\n",
       "    </tr>\n",
       "    <tr>\n",
       "      <th>463070824</th>\n",
       "      <td>NaN</td>\n",
       "      <td>NaN</td>\n",
       "      <td>NaN</td>\n",
       "      <td>2.0</td>\n",
       "      <td>NaN</td>\n",
       "    </tr>\n",
       "  </tbody>\n",
       "</table>\n",
       "<p>10085 rows × 5 columns</p>\n",
       "</div>"
      ],
      "text/plain": [
       "date       2021-09-14  2021-12-11  2022-03-12  2022-06-08  2022-09-12\n",
       "host_id                                                              \n",
       "104309976       133.0       132.0       194.0       200.0       185.0\n",
       "26497220          NaN         4.0        99.0       184.0       156.0\n",
       "263502162        43.0        44.0        50.0        74.0       115.0\n",
       "107434423         9.0        29.0        36.0        67.0        95.0\n",
       "8167447          76.0        77.0        78.0        77.0        78.0\n",
       "...               ...         ...         ...         ...         ...\n",
       "461242638         NaN         NaN         NaN         1.0         NaN\n",
       "461926895         NaN         NaN         NaN         1.0         NaN\n",
       "462308316         NaN         NaN         NaN         1.0         NaN\n",
       "462317350         NaN         NaN         NaN         1.0         NaN\n",
       "463070824         NaN         NaN         NaN         2.0         NaN\n",
       "\n",
       "[10085 rows x 5 columns]"
      ]
     },
     "execution_count": 219,
     "metadata": {},
     "output_type": "execute_result"
    }
   ],
   "source": [
    "CT = pd.crosstab(index=df.host_id, columns=[df.date], values = df.id.count(), aggfunc = 'count')\n",
    "CT.sort_values('2022-09-12', ascending=False)"
   ]
  },
  {
   "cell_type": "markdown",
   "metadata": {},
   "source": [
    "This crosstab shows the number of units offered by each host for the last 5 quarters"
   ]
  }
 ],
 "metadata": {
  "kernelspec": {
   "display_name": "Python 3.9.13 64-bit ('Anaconda3')",
   "language": "python",
   "name": "python3"
  },
  "language_info": {
   "codemirror_mode": {
    "name": "ipython",
    "version": 3
   },
   "file_extension": ".py",
   "mimetype": "text/x-python",
   "name": "python",
   "nbconvert_exporter": "python",
   "pygments_lexer": "ipython3",
   "version": "3.9.13"
  },
  "orig_nbformat": 4,
  "vscode": {
   "interpreter": {
    "hash": "5ec90962e6ea3f61fef21431e159ef0a82ff115e0ca4d5696658479de99efb61"
   }
  }
 },
 "nbformat": 4,
 "nbformat_minor": 2
}
